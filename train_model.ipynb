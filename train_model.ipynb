{
 "cells": [
  {
   "cell_type": "code",
   "execution_count": 3,
   "id": "aa0d96de",
   "metadata": {},
   "outputs": [],
   "source": [
    "import os\n",
    "import random\n",
    "import tensorflow as tf\n",
    "from tensorflow.keras.models import Sequential\n",
    "from tensorflow.keras.layers import Input, Conv2D, MaxPooling2D, Flatten, Dense, Dropout\n",
    "from sklearn.metrics import accuracy_score\n",
    "import matplotlib.pyplot as plt\n",
    "import numpy as np"
   ]
  },
  {
   "cell_type": "code",
   "execution_count": 4,
   "id": "1e0bae42",
   "metadata": {},
   "outputs": [],
   "source": [
    "filenames = os.listdir(\"bricks/dataset\")\n",
    "random.shuffle(filenames)\n",
    "img_size = 400"
   ]
  },
  {
   "cell_type": "code",
   "execution_count": 3,
   "id": "5c8071a4",
   "metadata": {},
   "outputs": [],
   "source": [
    "def get_pixels(image_path):\n",
    "    img = tf.io.read_file(image_path)\n",
    "    img = tf.image.decode_jpeg(img, channels=1)\n",
    "    img = tf.image.resize(img, [img_size, img_size])\n",
    "    img = tf.cast(img, tf.float32) / 255.0\n",
    "\n",
    "    return img"
   ]
  },
  {
   "cell_type": "code",
   "execution_count": 5,
   "id": "c8315a52",
   "metadata": {},
   "outputs": [],
   "source": [
    "images = []\n",
    "labels = []\n",
    "for fn in filenames:\n",
    "    images.append(get_pixels(f\"bricks/dataset/{fn}\"))\n",
    "    labels.append(int(fn.split(\" \")[0]))"
   ]
  },
  {
   "cell_type": "code",
   "execution_count": 6,
   "id": "81296c3d",
   "metadata": {},
   "outputs": [],
   "source": [
    "unique_labels = set(labels)\n",
    "labels_dict = {}\n",
    "for idx, i in enumerate(unique_labels):\n",
    "    labels_dict[i] = idx"
   ]
  },
  {
   "cell_type": "code",
   "execution_count": 6,
   "id": "ea278203",
   "metadata": {},
   "outputs": [],
   "source": [
    "for idx, l in enumerate(labels):\n",
    "    labels[idx] = labels_dict[l]"
   ]
  },
  {
   "cell_type": "code",
   "execution_count": 7,
   "id": "059a9c96",
   "metadata": {},
   "outputs": [],
   "source": [
    "train_size = int(len(labels) * 0.8)\n",
    "val_size = train_size+int(len(labels) * 0.17)"
   ]
  },
  {
   "cell_type": "code",
   "execution_count": 8,
   "id": "bc583c67",
   "metadata": {},
   "outputs": [],
   "source": [
    "train_images = tf.convert_to_tensor(images[:train_size])\n",
    "train_labels = tf.convert_to_tensor(labels[:train_size])"
   ]
  },
  {
   "cell_type": "code",
   "execution_count": 9,
   "id": "a44a6d69",
   "metadata": {},
   "outputs": [],
   "source": [
    "val_images = tf.convert_to_tensor(images[train_size:val_size])\n",
    "val_labels = tf.convert_to_tensor(labels[train_size:val_size])"
   ]
  },
  {
   "cell_type": "code",
   "execution_count": 10,
   "id": "4224c81f",
   "metadata": {},
   "outputs": [],
   "source": [
    "test_images = tf.convert_to_tensor(images[val_size:])\n",
    "test_labels = tf.convert_to_tensor(labels[val_size:])"
   ]
  },
  {
   "cell_type": "code",
   "execution_count": 16,
   "id": "7faf9a61",
   "metadata": {},
   "outputs": [],
   "source": [
    "model = Sequential(\n",
    "    [\n",
    "        Input(shape=(img_size, img_size, 1)),\n",
    "        Conv2D(32, (3, 3), activation='relu'),\n",
    "        MaxPooling2D((2, 2)),\n",
    "        Conv2D(64, (3, 3), activation='relu'),\n",
    "        MaxPooling2D((2, 2)),\n",
    "        Conv2D(128, (3, 3), activation='relu'),\n",
    "        MaxPooling2D((2, 2)),\n",
    "        Conv2D(128, (3, 3), activation='relu'),\n",
    "        MaxPooling2D((2, 2)),\n",
    "        Flatten(),\n",
    "        Dense(512, activation='relu'),\n",
    "        Dropout(0.5),\n",
    "        Dense(256, activation='relu'),\n",
    "        Dense(50, activation='sigmoid')\n",
    "    ]\n",
    ")"
   ]
  },
  {
   "cell_type": "code",
   "execution_count": 17,
   "id": "2a07348f",
   "metadata": {},
   "outputs": [],
   "source": [
    "model.compile(optimizer='adam',\n",
    "              loss='sparse_categorical_crossentropy',\n",
    "              metrics=['accuracy'])"
   ]
  },
  {
   "cell_type": "code",
   "execution_count": 18,
   "id": "09200ba8",
   "metadata": {
    "scrolled": false
   },
   "outputs": [
    {
     "name": "stdout",
     "output_type": "stream",
     "text": [
      "Epoch 1/10\n",
      "1000/1000 [==============================] - 1692s 2s/step - loss: 2.2554 - accuracy: 0.3009 - val_loss: 1.5859 - val_accuracy: 0.4787\n",
      "Epoch 2/10\n",
      "1000/1000 [==============================] - 1599s 2s/step - loss: 1.5111 - accuracy: 0.4912 - val_loss: 1.2040 - val_accuracy: 0.5859\n",
      "Epoch 3/10\n",
      "1000/1000 [==============================] - 1606s 2s/step - loss: 1.1369 - accuracy: 0.6070 - val_loss: 1.0046 - val_accuracy: 0.6454\n",
      "Epoch 4/10\n",
      "1000/1000 [==============================] - 1577s 2s/step - loss: 0.8832 - accuracy: 0.6872 - val_loss: 0.9214 - val_accuracy: 0.6725\n",
      "Epoch 5/10\n",
      "1000/1000 [==============================] - 1511s 2s/step - loss: 0.7179 - accuracy: 0.7403 - val_loss: 0.8591 - val_accuracy: 0.6974\n",
      "Epoch 6/10\n",
      "1000/1000 [==============================] - 1692s 2s/step - loss: 0.5842 - accuracy: 0.7897 - val_loss: 0.8804 - val_accuracy: 0.7078\n",
      "Epoch 7/10\n",
      "1000/1000 [==============================] - 1647s 2s/step - loss: 0.4941 - accuracy: 0.8207 - val_loss: 0.8415 - val_accuracy: 0.7191\n",
      "Epoch 8/10\n",
      "1000/1000 [==============================] - 1548s 2s/step - loss: 0.4278 - accuracy: 0.8439 - val_loss: 0.9374 - val_accuracy: 0.7106\n",
      "Epoch 9/10\n",
      "1000/1000 [==============================] - 1543s 2s/step - loss: 0.3649 - accuracy: 0.8675 - val_loss: 0.9052 - val_accuracy: 0.7218\n",
      "Epoch 10/10\n",
      "1000/1000 [==============================] - 1527s 2s/step - loss: 0.3239 - accuracy: 0.8844 - val_loss: 0.9531 - val_accuracy: 0.7197\n"
     ]
    },
    {
     "data": {
      "text/plain": [
       "<keras.src.callbacks.History at 0x347952190>"
      ]
     },
     "execution_count": 18,
     "metadata": {},
     "output_type": "execute_result"
    }
   ],
   "source": [
    "model.fit(train_images, train_labels, epochs=10, validation_data=(val_images, val_labels))"
   ]
  },
  {
   "cell_type": "code",
   "execution_count": 20,
   "id": "f4632035",
   "metadata": {},
   "outputs": [
    {
     "name": "stdout",
     "output_type": "stream",
     "text": [
      "38/38 [==============================] - 16s 410ms/step\n"
     ]
    },
    {
     "data": {
      "image/png": "[encoded data removed]",
      "text/plain": [
       "<Figure size 640x480 with 1 Axes>"
      ]
     },
     "metadata": {},
     "output_type": "display_data"
    },
    {
     "name": "stdout",
     "output_type": "stream",
     "text": [
      "Overall accuracy: 73.83%\n",
      "Actual: 7 (Lego item No: 54200)\n",
      "Prediction: 7 (Lego item No: 54200)\n"
     ]
    }
   ],
   "source": [
    "predictions = model.predict(test_images)\n",
    "predicted_labels = np.argmax(predictions, axis=1)\n",
    "\n",
    "accuracy = accuracy_score(test_labels, predicted_labels)\n",
    "rndm = random.randrange(len(test_labels))\n",
    "plt.imshow(test_images[rndm])\n",
    "plt.show()\n",
    "print(f\"Overall accuracy: {round(accuracy*100, 2)}%\")\n",
    "print(\"Actual:\", int(test_labels[rndm]), f\"(Lego item No: {list(labels_dict.keys())[int(test_labels[rndm])]})\")\n",
    "print(\"Prediction:\", predicted_labels[rndm], f\"(Lego item No: {list(labels_dict.keys())[predicted_labels[rndm]]})\")"
   ]
  },
  {
   "cell_type": "code",
   "execution_count": 22,
   "id": "f6e722de",
   "metadata": {},
   "outputs": [],
   "source": [
    "model.save('parameters.h5')"
   ]
  }
 ],
 "metadata": {
  "kernelspec": {
   "display_name": "Python 3 (ipykernel)",
   "language": "python",
   "name": "python3"
  },
  "language_info": {
   "codemirror_mode": {
    "name": "ipython",
    "version": 3
   },
   "file_extension": ".py",
   "mimetype": "text/x-python",
   "name": "python",
   "nbconvert_exporter": "python",
   "pygments_lexer": "ipython3",
   "version": "3.11.9"
  }
 },
 "nbformat": 4,
 "nbformat_minor": 5
}
